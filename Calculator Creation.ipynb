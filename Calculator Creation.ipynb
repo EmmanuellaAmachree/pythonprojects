{
  "nbformat": 4,
  "nbformat_minor": 0,
  "metadata": {
    "colab": {
      "provenance": []
    },
    "kernelspec": {
      "name": "python3",
      "display_name": "Python 3"
    },
    "language_info": {
      "name": "python"
    }
  },
  "cells": [
    {
      "cell_type": "code",
      "source": [],
      "metadata": {
        "id": "966MLfXat5GK"
      },
      "execution_count": null,
      "outputs": []
    },
    {
      "cell_type": "code",
      "execution_count": null,
      "metadata": {
        "colab": {
          "base_uri": "https://localhost:8080/"
        },
        "id": "T2HDEQXUsxSA",
        "outputId": "b174e5d5-f178-455c-d9da-3ca3d666f638"
      },
      "outputs": [
        {
          "output_type": "stream",
          "name": "stdout",
          "text": [
            "Enter the name of mealpaster\n",
            "Enter the price of meal100\n",
            "\\ Restaurant Bill Summary\n",
            "\\----------------------------------\n",
            "Meal: paster\n",
            "Price : 100\n",
            "Suggested Tips:\n",
            "15% =$15.0\n",
            "18% = $18.0\n",
            "20% = $20.0\n",
            "Total amount with 20% of tip: = $ 120.0\n"
          ]
        }
      ],
      "source": [
        "def calculator():\n",
        "    meal_name=input(\"Enter the name of meal\")\n",
        "    meal_price=int(input(\"Enter the price of meal\"))\n",
        "\n",
        "    #CALCULATION OF TIPS AND TOTAL AMOUNT\n",
        "    tip15=round(meal_price*0.15,2)\n",
        "    tip18=round(meal_price*0.18,2)\n",
        "    tip20=round(meal_price *0.20,2)\n",
        "\n",
        "    total_bill_20=round(meal_price+tip20,2)\n",
        "\n",
        "    #to print\n",
        "    print(\"\\ Restaurant Bill Summary\")\n",
        "    print(\"\\----------------------------------\")\n",
        "    print(f\"Meal: {meal_name}\")\n",
        "    print(f\"Price : {meal_price}\")\n",
        "\n",
        "    print(f\"Suggested Tips:\")\n",
        "    print(f\"15% =${tip15}\")\n",
        "    print(f\"18% = ${tip18}\")\n",
        "    print(f\"20% = ${tip20}\")\n",
        "\n",
        "    print(f\"Total amount with 20% of tip: = $ {total_bill_20}\")\n",
        "\n",
        "calculator()"
      ]
    },
    {
      "cell_type": "code",
      "source": [],
      "metadata": {
        "id": "agf7FXcVs1o1"
      },
      "execution_count": null,
      "outputs": []
    }
  ]
}
