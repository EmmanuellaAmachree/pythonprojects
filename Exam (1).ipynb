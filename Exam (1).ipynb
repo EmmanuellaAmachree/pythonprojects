{
  "nbformat": 4,
  "nbformat_minor": 0,
  "metadata": {
    "colab": {
      "provenance": []
    },
    "kernelspec": {
      "name": "python3",
      "display_name": "Python 3"
    },
    "language_info": {
      "name": "python"
    }
  },
  "cells": [
    {
      "cell_type": "code",
      "source": [
        "#1"
      ],
      "metadata": {
        "id": "BPWRKgwmCXFC"
      },
      "execution_count": null,
      "outputs": []
    },
    {
      "cell_type": "code",
      "source": [
        "print(\"Starting Python Exam.....\")\n",
        "print(\"Group 1\")\n"
      ],
      "metadata": {
        "colab": {
          "base_uri": "https://localhost:8080/"
        },
        "id": "ziHi-6BqBuyh",
        "outputId": "705ff279-ce94-4007-843c-af7065238444"
      },
      "execution_count": null,
      "outputs": [
        {
          "output_type": "stream",
          "name": "stdout",
          "text": [
            "Starting Python Exam.....\n",
            "Group 1\n"
          ]
        }
      ]
    },
    {
      "cell_type": "code",
      "source": [
        "# 2"
      ],
      "metadata": {
        "id": "-HouziRjB5UK"
      },
      "execution_count": null,
      "outputs": []
    },
    {
      "cell_type": "code",
      "source": [
        "y=(10-2)*3"
      ],
      "metadata": {
        "id": "iDbwVqH1B6Vp"
      },
      "execution_count": null,
      "outputs": []
    },
    {
      "cell_type": "code",
      "source": [
        "print(y)"
      ],
      "metadata": {
        "colab": {
          "base_uri": "https://localhost:8080/"
        },
        "id": "1XoOucGNCAoD",
        "outputId": "0869f1fc-3241-4256-81f2-3d49c8ae48e6"
      },
      "execution_count": null,
      "outputs": [
        {
          "output_type": "stream",
          "name": "stdout",
          "text": [
            "24\n"
          ]
        }
      ]
    },
    {
      "cell_type": "code",
      "source": [
        "# 3"
      ],
      "metadata": {
        "id": "5DXy8-roCDbf"
      },
      "execution_count": null,
      "outputs": []
    },
    {
      "cell_type": "code",
      "source": [
        "string = 456\n",
        "string = int(string)\n",
        "string = string - 20"
      ],
      "metadata": {
        "id": "a43YhbiCCimw"
      },
      "execution_count": null,
      "outputs": []
    },
    {
      "cell_type": "code",
      "source": [
        "print(string)"
      ],
      "metadata": {
        "colab": {
          "base_uri": "https://localhost:8080/"
        },
        "id": "SSwVd_rxCtmn",
        "outputId": "c049bdd2-a75c-4d76-c2a0-a9d8eef5b73a"
      },
      "execution_count": null,
      "outputs": [
        {
          "output_type": "stream",
          "name": "stdout",
          "text": [
            "436\n"
          ]
        }
      ]
    },
    {
      "cell_type": "code",
      "source": [
        "# 4"
      ],
      "metadata": {
        "id": "QWdSaDyiCzuG"
      },
      "execution_count": null,
      "outputs": []
    },
    {
      "cell_type": "code",
      "source": [
        "#Dictionaries store data in key,value pairs. Each key is unique and associated with a specific value."
      ],
      "metadata": {
        "id": "AOTeTpUwFbBQ"
      },
      "execution_count": null,
      "outputs": []
    },
    {
      "cell_type": "code",
      "source": [
        "Fruits={\"apple\":10, \"mango\":20}"
      ],
      "metadata": {
        "id": "VxDhh_zKDeSc"
      },
      "execution_count": null,
      "outputs": []
    },
    {
      "cell_type": "code",
      "source": [
        "# A list is a ordered sequence of elements."
      ],
      "metadata": {
        "id": "4fZtmgGfES4_"
      },
      "execution_count": null,
      "outputs": []
    },
    {
      "cell_type": "code",
      "source": [
        "Mylist=[\"apple\", \"mango\",10,\"Eight\"]"
      ],
      "metadata": {
        "id": "cFI1EZUwDzAm"
      },
      "execution_count": null,
      "outputs": []
    },
    {
      "cell_type": "code",
      "source": [
        "# 5"
      ],
      "metadata": {
        "id": "CTdtktgPGutF"
      },
      "execution_count": null,
      "outputs": []
    },
    {
      "cell_type": "code",
      "source": [
        "number = int(input(\"Enter a number: \"))\n",
        "\n",
        "if number % 2 == 0:\n",
        "    print(f\"{number} is even.\")\n",
        "else:\n",
        "    print(f\"{number} is odd.\")"
      ],
      "metadata": {
        "colab": {
          "base_uri": "https://localhost:8080/"
        },
        "id": "6y-IHOjuGoNs",
        "outputId": "1180a8c3-c593-40fb-d8c8-d9fb292ac3ca"
      },
      "execution_count": null,
      "outputs": [
        {
          "output_type": "stream",
          "name": "stdout",
          "text": [
            "Enter a number: 3\n",
            "3 is odd.\n"
          ]
        }
      ]
    },
    {
      "cell_type": "code",
      "source": [
        "#6"
      ],
      "metadata": {
        "id": "8YUK2ZfyGtig"
      },
      "execution_count": null,
      "outputs": []
    },
    {
      "source": [
        "status = \"Non-zero\" if x != 0 else \"zero\""
      ],
      "cell_type": "code",
      "metadata": {
        "id": "Fmxp3QyYH7XT"
      },
      "execution_count": null,
      "outputs": []
    },
    {
      "cell_type": "code",
      "source": [
        "print(status)"
      ],
      "metadata": {
        "colab": {
          "base_uri": "https://localhost:8080/"
        },
        "id": "Mjt6CO69Xpha",
        "outputId": "553c4875-7504-4fef-c8fd-933342d0749b"
      },
      "execution_count": null,
      "outputs": [
        {
          "output_type": "stream",
          "name": "stdout",
          "text": [
            "Non-zero\n"
          ]
        }
      ]
    },
    {
      "cell_type": "code",
      "source": [
        "# 7"
      ],
      "metadata": {
        "id": "KBUv2xdPHsF2"
      },
      "execution_count": null,
      "outputs": []
    },
    {
      "cell_type": "code",
      "source": [
        "for i in range(1, 16):\n",
        "    if i % 4 != 0:\n",
        "        print(i)"
      ],
      "metadata": {
        "colab": {
          "base_uri": "https://localhost:8080/"
        },
        "id": "7qztNNcPHzUV",
        "outputId": "c3e037db-daaa-497e-93ea-605105cbf6f1"
      },
      "execution_count": null,
      "outputs": [
        {
          "output_type": "stream",
          "name": "stdout",
          "text": [
            "1\n",
            "2\n",
            "3\n",
            "5\n",
            "6\n",
            "7\n",
            "9\n",
            "10\n",
            "11\n",
            "13\n",
            "14\n",
            "15\n"
          ]
        }
      ]
    },
    {
      "cell_type": "code",
      "source": [
        "#8"
      ],
      "metadata": {
        "id": "cwr82BNJIzt2"
      },
      "execution_count": null,
      "outputs": []
    },
    {
      "cell_type": "code",
      "source": [
        "def divide_numbers(a, b):\n",
        "\n",
        "    try:\n",
        "        result = a / b\n",
        "        return result\n",
        "    except ZeroDivisionError:\n",
        "        return \"Error: Division by zero is not allowed.\"\n"
      ],
      "metadata": {
        "id": "oLMSkNNLJmVm"
      },
      "execution_count": null,
      "outputs": []
    },
    {
      "cell_type": "code",
      "source": [
        "a = int(input(\"Enter the numerator: \"))\n",
        "b = int(input(\"Enter the denominator: \"))"
      ],
      "metadata": {
        "colab": {
          "base_uri": "https://localhost:8080/"
        },
        "id": "wM_qIbZkJweQ",
        "outputId": "fcc7cb8f-ca1a-496c-d100-6c616f10a358"
      },
      "execution_count": null,
      "outputs": [
        {
          "name": "stdout",
          "output_type": "stream",
          "text": [
            "Enter the numerator: 35\n",
            "Enter the denominator: 6\n"
          ]
        }
      ]
    },
    {
      "cell_type": "code",
      "source": [
        "division_result = divide_numbers(a, b)\n",
        "print(division_result)"
      ],
      "metadata": {
        "colab": {
          "base_uri": "https://localhost:8080/"
        },
        "id": "CKlxb3vsJzl2",
        "outputId": "1d15ca18-44cd-45e3-9bb2-a6b6798d92de"
      },
      "execution_count": null,
      "outputs": [
        {
          "output_type": "stream",
          "name": "stdout",
          "text": [
            "5.833333333333333\n"
          ]
        }
      ]
    },
    {
      "cell_type": "code",
      "source": [
        "# 9\n",
        "# function argument and function return value with examples\n",
        "#Function : arguments are values you pass into a function when you call it.\n",
        "#Arguments: These are passed in the order they are defined in the function."
      ],
      "metadata": {
        "id": "1bOFIfgAKBPm"
      },
      "execution_count": null,
      "outputs": []
    },
    {
      "cell_type": "code",
      "source": [
        "def greet(name):  # name is the argument\n",
        "    print(\"Hello, \" + name + \"!\")"
      ],
      "metadata": {
        "id": "Gmbkd1JMPNHm"
      },
      "execution_count": null,
      "outputs": []
    },
    {
      "cell_type": "code",
      "source": [
        "def add(a, b):\n",
        "    result = a + b\n",
        "    return result  # result is the return value"
      ],
      "metadata": {
        "id": "MtH_XFRfPOEG"
      },
      "execution_count": null,
      "outputs": []
    },
    {
      "cell_type": "code",
      "source": [
        "# 10"
      ],
      "metadata": {
        "id": "fRpyUWvKKZig"
      },
      "execution_count": null,
      "outputs": []
    },
    {
      "cell_type": "code",
      "source": [
        "def greet (name=\"Guest\"): # This line defines a function called greet\n",
        "    return f\"Hello ,{name}!\" #Inside the function, this line creates and returns a greeting string.\n",
        "print (greet())    #This line calls the greet function without providing any arguments.\n",
        "print (greet(\"Alice\")) #This line calls the greet function with the argument \"Alice\".\n"
      ],
      "metadata": {
        "colab": {
          "base_uri": "https://localhost:8080/"
        },
        "id": "KLPb9UKCKnFf",
        "outputId": "9e53652f-0bfc-4499-8870-9ef1ddc5109a"
      },
      "execution_count": null,
      "outputs": [
        {
          "output_type": "stream",
          "name": "stdout",
          "text": [
            "Hello ,Guest!\n",
            "Hello ,Alice!\n"
          ]
        }
      ]
    },
    {
      "cell_type": "code",
      "source": [
        "# 11"
      ],
      "metadata": {
        "id": "TlYp4dlSKpcX"
      },
      "execution_count": null,
      "outputs": []
    },
    {
      "cell_type": "code",
      "source": [
        "Mycoulours = [\"red\", \"blue\", \"green\", \"yellow\", \"orange\"]\n",
        "Mycoulours[-1]"
      ],
      "metadata": {
        "colab": {
          "base_uri": "https://localhost:8080/",
          "height": 35
        },
        "id": "1raaxOgiMkrX",
        "outputId": "fc8143d0-3df0-43b2-8e66-ab5f0df0e313"
      },
      "execution_count": null,
      "outputs": [
        {
          "output_type": "execute_result",
          "data": {
            "text/plain": [
              "'orange'"
            ],
            "application/vnd.google.colaboratory.intrinsic+json": {
              "type": "string"
            }
          },
          "metadata": {},
          "execution_count": 41
        }
      ]
    },
    {
      "cell_type": "code",
      "source": [
        "# 12"
      ],
      "metadata": {
        "id": "eitKQtKONELw"
      },
      "execution_count": null,
      "outputs": []
    },
    {
      "cell_type": "code",
      "source": [
        "employee = {\"name\": \"jordan\", \"position\": \"manager\", \"salary\": \"75000\"}"
      ],
      "metadata": {
        "id": "L2kqDF0ZNpHh"
      },
      "execution_count": null,
      "outputs": []
    },
    {
      "cell_type": "code",
      "source": [
        "employee[\"salary\"] = 80000"
      ],
      "metadata": {
        "id": "fVan0TQ8QbYF"
      },
      "execution_count": null,
      "outputs": []
    },
    {
      "cell_type": "code",
      "source": [
        "employee[\"department\"] = \"sales\""
      ],
      "metadata": {
        "id": "pbFZ8PHsQqmX"
      },
      "execution_count": null,
      "outputs": []
    },
    {
      "cell_type": "code",
      "source": [
        "print(employee)"
      ],
      "metadata": {
        "colab": {
          "base_uri": "https://localhost:8080/"
        },
        "id": "Gxu3GPk0QvW-",
        "outputId": "68c5e64b-34bc-4cd2-ba73-5d4aec8e9989"
      },
      "execution_count": null,
      "outputs": [
        {
          "output_type": "stream",
          "name": "stdout",
          "text": [
            "{'name': 'jordan', 'position': 'manager', 'salary': 80000, 'department': 'sales'}\n"
          ]
        }
      ]
    },
    {
      "cell_type": "code",
      "source": [
        "# 13"
      ],
      "metadata": {
        "id": "1SYqZa5oQ2ZI"
      },
      "execution_count": null,
      "outputs": []
    },
    {
      "cell_type": "code",
      "source": [
        "with open(\"data.text\", \"w\") as file:\n",
        " file.write(\"python Exam- Group 0222221\")\n",
        "\n",
        "with open(\"data.text\", \"r\") as file:\n",
        "\n",
        "    content = file.read()\n",
        "\n",
        "    print(content)"
      ],
      "metadata": {
        "colab": {
          "base_uri": "https://localhost:8080/"
        },
        "id": "F8BhY6PYRUAr",
        "outputId": "f0c54926-9040-4d21-a78f-710cf9f9ba99"
      },
      "execution_count": null,
      "outputs": [
        {
          "output_type": "stream",
          "name": "stdout",
          "text": [
            "python Exam- Group 0222221\n"
          ]
        }
      ]
    },
    {
      "cell_type": "code",
      "source": [
        "#14"
      ],
      "metadata": {
        "id": "DRMK-OkdSXFZ"
      },
      "execution_count": null,
      "outputs": []
    },
    {
      "cell_type": "code",
      "source": [
        "class Appliances:\n",
        "    def __init__(self, brand, power):\n",
        "        self.brand = brand\n",
        "        self.power = power\n",
        "\n",
        "    def show_details(self):\n",
        "        print(f\"Brand: {self.brand}, Power: {self.power}\")\n",
        "\n",
        "\n",
        "class WashingMachine(Appliances):\n",
        "    def __init__(self, brand, power, capacity):\n",
        "        super().__init__(brand, power)\n",
        "        self.capacity = capacity\n",
        "\n",
        "    def show_details(self):\n",
        "        super().show_details()\n",
        "        print(f\"Capacity: {self.capacity}\")"
      ],
      "metadata": {
        "id": "6Yb44kBoTcBi"
      },
      "execution_count": null,
      "outputs": []
    },
    {
      "cell_type": "code",
      "source": [
        "appliance = Appliances(\"Sonny\", \"100W\")\n",
        "appliance.show_details()\n"
      ],
      "metadata": {
        "colab": {
          "base_uri": "https://localhost:8080/"
        },
        "id": "V9Xmwn9mUfEO",
        "outputId": "b7a56ce4-06f1-4d0e-f1a7-28cc47723b4d"
      },
      "execution_count": null,
      "outputs": [
        {
          "output_type": "stream",
          "name": "stdout",
          "text": [
            "Brand: Sonny, Power: 100W\n"
          ]
        }
      ]
    },
    {
      "cell_type": "code",
      "source": [
        "washing_machine = WashingMachine(\"Whirlpool\", \"1500W\", \"8kg\")\n",
        "washing_machine.show_details()"
      ],
      "metadata": {
        "colab": {
          "base_uri": "https://localhost:8080/"
        },
        "id": "6YOqz6WrUhCp",
        "outputId": "18fa7cbf-5c58-46dc-c14d-e62e2e7e7789"
      },
      "execution_count": null,
      "outputs": [
        {
          "output_type": "stream",
          "name": "stdout",
          "text": [
            "Brand: Whirlpool, Power: 1500W\n",
            "Capacity: 8kg\n"
          ]
        }
      ]
    },
    {
      "cell_type": "code",
      "source": [
        "class Appliances:\n",
        "    def __init__(self, brand, power):\n",
        "        self.brand = brand\n",
        "        self.power = power\n",
        "\n",
        "    def show_details(self):\n",
        "        print(f\"Brand: {self.brand}, Power: {self.power}\")\n",
        "\n",
        "\n",
        "class WashingMachine(Appliances):\n",
        "    def __init__(self, brand, power, capacity):\n",
        "        super().__init__(brand, power)\n",
        "        self.capacity = capacity\n",
        "\n",
        "    def show_details(self):\n",
        "        super().show_details()\n",
        "        print(f\"Capacity: {self.capacity}\")\n",
        "\n",
        "class SmartWashingMachine(WashingMachine):\n",
        "    def __init__(self, brand, power, capacity, wifi_enabled):\n",
        "        super().__init__(brand, power, capacity)\n",
        "        self.wifi_enabled = wifi_enabled\n",
        "\n",
        "    def show_details(self):\n",
        "        super().show_details()\n",
        "        print(f\"WiFi Enabled: {self.wifi_enabled}\")"
      ],
      "metadata": {
        "id": "qkzHKWZoVLcF"
      },
      "execution_count": null,
      "outputs": []
    },
    {
      "cell_type": "code",
      "source": [
        "smart_washing_machine = SmartWashingMachine(\"Samsung\", \"1600W\", \"9kg\", True)"
      ],
      "metadata": {
        "id": "gvmh70vdWm45"
      },
      "execution_count": null,
      "outputs": []
    },
    {
      "cell_type": "code",
      "source": [
        "smart_washing_machine.show_details()"
      ],
      "metadata": {
        "colab": {
          "base_uri": "https://localhost:8080/"
        },
        "id": "UdYUmCb4Wo8I",
        "outputId": "ef1b9ec5-20f5-400d-dc8e-ee7603423cdb"
      },
      "execution_count": null,
      "outputs": [
        {
          "output_type": "stream",
          "name": "stdout",
          "text": [
            "Brand: Samsung, Power: 1600W\n",
            "Capacity: 9kg\n",
            "WiFi Enabled: True\n"
          ]
        }
      ]
    },
    {
      "cell_type": "code",
      "source": [
        "#16"
      ],
      "metadata": {
        "id": "okFRLA9OVXpc"
      },
      "execution_count": null,
      "outputs": []
    },
    {
      "cell_type": "code",
      "source": [
        "def fibonacci(n):\n",
        "    if n < 0:\n",
        "        raise ValueError(\"Input must be a non-negative integer\")\n",
        "    elif n <= 1:\n",
        "        return n  # Return n if n is 0 or 1\n",
        "    else:\n",
        "        return fibonacci(n - 1) + fibonacci(n - 2)"
      ],
      "metadata": {
        "id": "lB6ck00aWTt3"
      },
      "execution_count": null,
      "outputs": []
    },
    {
      "cell_type": "code",
      "source": [
        "print (fibonacci(10))"
      ],
      "metadata": {
        "colab": {
          "base_uri": "https://localhost:8080/"
        },
        "id": "adznhe6HZJcU",
        "outputId": "a4774d1a-1f51-46ff-952f-821fa8a37245"
      },
      "execution_count": null,
      "outputs": [
        {
          "output_type": "stream",
          "name": "stdout",
          "text": [
            "55\n"
          ]
        }
      ]
    },
    {
      "cell_type": "code",
      "source": [],
      "metadata": {
        "id": "8F6V8r2Hd1n3"
      },
      "execution_count": null,
      "outputs": []
    }
  ]
}