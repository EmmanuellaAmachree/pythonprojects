{
  "nbformat": 4,
  "nbformat_minor": 0,
  "metadata": {
    "colab": {
      "provenance": []
    },
    "kernelspec": {
      "name": "python3",
      "display_name": "Python 3"
    },
    "language_info": {
      "name": "python"
    }
  },
  "cells": [
    {
      "cell_type": "code",
      "execution_count": null,
      "metadata": {
        "id": "t_RxWRQJ2gFR"
      },
      "outputs": [],
      "source": [
        "# everything is either a class or object in progamming be it java, c#\n",
        "# calss is nothing but a blueprint\n",
        "# object is the implimentation of the blueprint"
      ]
    },
    {
      "cell_type": "code",
      "source": [
        "def count_down(n):\n",
        "    if n <= 0:\n",
        "        print('Blast off!')\n",
        "    else:\n",
        "        print(n)\n",
        "        count_down(n-1)"
      ],
      "metadata": {
        "id": "YKZupuIFLged"
      },
      "execution_count": null,
      "outputs": []
    },
    {
      "cell_type": "code",
      "source": [
        "count_down(5)"
      ],
      "metadata": {
        "colab": {
          "base_uri": "https://localhost:8080/"
        },
        "id": "owdD5vwvLkdY",
        "outputId": "86d1c812-3e7f-4711-b781-5440fd16dec7"
      },
      "execution_count": null,
      "outputs": [
        {
          "output_type": "stream",
          "name": "stdout",
          "text": [
            "5\n",
            "4\n",
            "3\n",
            "2\n",
            "1\n",
            "Blast off!\n"
          ]
        }
      ]
    }
  ]
}
