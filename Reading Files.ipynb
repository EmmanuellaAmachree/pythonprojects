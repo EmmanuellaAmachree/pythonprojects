{
  "nbformat": 4,
  "nbformat_minor": 0,
  "metadata": {
    "colab": {
      "provenance": []
    },
    "kernelspec": {
      "name": "python3",
      "display_name": "Python 3"
    },
    "language_info": {
      "name": "python"
    }
  },
  "cells": [
    {
      "cell_type": "code",
      "execution_count": null,
      "metadata": {
        "id": "FNEKZPlPqHUi"
      },
      "outputs": [],
      "source": [
        "#PART 01"
      ]
    },
    {
      "cell_type": "code",
      "source": [
        "#TASK 01 & 02"
      ],
      "metadata": {
        "id": "eueA0p2PqLgY"
      },
      "execution_count": null,
      "outputs": []
    },
    {
      "cell_type": "code",
      "source": [
        "myfile = 'myfile.txt'\n",
        "with open(myfile) as myfile:\n",
        "  for line in myfile:\n",
        "    print(line, end = \"\")"
      ],
      "metadata": {
        "colab": {
          "base_uri": "https://localhost:8080/"
        },
        "id": "vpUMEh1EqNGy",
        "outputId": "f37078bd-c644-4705-a63a-8d2218eafbdc"
      },
      "execution_count": null,
      "outputs": [
        {
          "output_type": "stream",
          "name": "stdout",
          "text": [
            "\"Hello, this is Python file handling assignment.\"\n",
            "\"This file contains multiple lines of text.\""
          ]
        }
      ]
    },
    {
      "cell_type": "code",
      "source": [
        "myfile = \"myfile.txt\"\n",
        "with open(myfile) as myfile:\n",
        "  print(myfile.read())"
      ],
      "metadata": {
        "colab": {
          "base_uri": "https://localhost:8080/"
        },
        "id": "MB2KtVG7-foJ",
        "outputId": "e3c7f2c7-b2a2-4512-ae70-246a3768dfdc"
      },
      "execution_count": null,
      "outputs": [
        {
          "output_type": "stream",
          "name": "stdout",
          "text": [
            "\"Hello, this is Python file handling assignment.\"\n",
            "\"This file contains multiple lines of text.\"\n"
          ]
        }
      ]
    },
    {
      "cell_type": "code",
      "source": [
        "myfile = \"myfile.txt\"\n",
        "with open(myfile) as myfile:\n",
        "  myfile.readline()\n",
        "  print(myfile.readline())"
      ],
      "metadata": {
        "colab": {
          "base_uri": "https://localhost:8080/"
        },
        "id": "yKGYWG0J_CTE",
        "outputId": "9730dc2e-dc64-42c9-8c07-277a6fe4bdb4"
      },
      "execution_count": null,
      "outputs": [
        {
          "output_type": "stream",
          "name": "stdout",
          "text": [
            "\"This file contains multiple lines of text.\"\n"
          ]
        }
      ]
    },
    {
      "cell_type": "code",
      "source": [
        "myfile.close()"
      ],
      "metadata": {
        "id": "NG99qbcRKYm6"
      },
      "execution_count": null,
      "outputs": []
    },
    {
      "cell_type": "code",
      "source": [
        "myfile = \"myfile.txt\"\n",
        "with open(myfile) as myfile:\n",
        "  print(myfile.readlines())"
      ],
      "metadata": {
        "colab": {
          "base_uri": "https://localhost:8080/"
        },
        "id": "2Z99Jqj5_F4Q",
        "outputId": "13a73e98-ed20-470b-e25e-ef43df8de422"
      },
      "execution_count": null,
      "outputs": [
        {
          "output_type": "stream",
          "name": "stdout",
          "text": [
            "['\"Hello, this is Python file handling assignment.\"\\n', '\"This file contains multiple lines of text.\"']\n"
          ]
        }
      ]
    },
    {
      "cell_type": "code",
      "source": [
        "myfile = 'myfile.txt'\n",
        "with open(myfile, \"r\") as myfile:\n",
        "  print(myfile.read(10))"
      ],
      "metadata": {
        "colab": {
          "base_uri": "https://localhost:8080/"
        },
        "id": "PzWlOhl06t_i",
        "outputId": "f8e166e3-6f8b-454c-fffc-b3bc71fbf74d"
      },
      "execution_count": null,
      "outputs": [
        {
          "output_type": "stream",
          "name": "stdout",
          "text": [
            "\"Hello, th\n"
          ]
        }
      ]
    },
    {
      "cell_type": "code",
      "source": [
        "myfile = 'myfile.txt'\n",
        "with open(myfile, \"r\") as myfile:\n",
        "  print(myfile.readline())\n",
        "  print(myfile.readline())"
      ],
      "metadata": {
        "colab": {
          "base_uri": "https://localhost:8080/"
        },
        "id": "FGc5wmY17Ngd",
        "outputId": "44199a1e-1937-41ac-b04b-dc84e3b05427"
      },
      "execution_count": null,
      "outputs": [
        {
          "output_type": "stream",
          "name": "stdout",
          "text": [
            "\"Hello, this is Python file handling assignment.\"\n",
            "\n",
            "\"This file contains multiple lines of text.\"\n"
          ]
        }
      ]
    },
    {
      "cell_type": "code",
      "source": [
        "myfile = 'myfile.txt'\n",
        "with open(myfile, \"r\") as myfile:\n",
        "  print(myfile.readlines())"
      ],
      "metadata": {
        "id": "tWSMUk5H7UT0",
        "outputId": "400e616d-a31d-45cf-9999-b53d5bb4e9b9",
        "colab": {
          "base_uri": "https://localhost:8080/"
        }
      },
      "execution_count": null,
      "outputs": [
        {
          "output_type": "stream",
          "name": "stdout",
          "text": [
            "['\"Hello, this is Python file handling assignment.\"\\n', '\"This file contains multiple lines of text.\"']\n"
          ]
        }
      ]
    },
    {
      "cell_type": "code",
      "source": [
        "#PART 02"
      ],
      "metadata": {
        "id": "NJwrUFPNrf4h"
      },
      "execution_count": null,
      "outputs": []
    },
    {
      "cell_type": "code",
      "source": [
        "#TASK 3"
      ],
      "metadata": {
        "id": "HIHnVFm0rlZG"
      },
      "execution_count": null,
      "outputs": []
    },
    {
      "cell_type": "code",
      "source": [
        "myfile = 'languages.txt'\n",
        "with open(myfile) as myfile:\n",
        "  print(myfile.readlines())"
      ],
      "metadata": {
        "colab": {
          "base_uri": "https://localhost:8080/"
        },
        "id": "u4xpfOZgrnvL",
        "outputId": "fcb82805-81c5-48ea-a03b-8acf4053e5a0"
      },
      "execution_count": null,
      "outputs": [
        {
          "output_type": "stream",
          "name": "stdout",
          "text": [
            "['Python\\n', 'SQL\\n', 'R Programming\\n', 'C#\\n', 'JavaScript']\n"
          ]
        }
      ]
    },
    {
      "cell_type": "code",
      "source": [
        "#PART 03"
      ],
      "metadata": {
        "id": "gS4HP1JJtGc8"
      },
      "execution_count": null,
      "outputs": []
    },
    {
      "cell_type": "code",
      "source": [
        "#TASK 4"
      ],
      "metadata": {
        "id": "NJaqCTvytKll"
      },
      "execution_count": null,
      "outputs": []
    },
    {
      "cell_type": "code",
      "source": [
        "import csv"
      ],
      "metadata": {
        "id": "3T31LeURtvfa"
      },
      "execution_count": null,
      "outputs": []
    },
    {
      "cell_type": "code",
      "source": [
        "students = [\n",
        "    {\"Name\": \"Alice\", \"Grade\": 90},\n",
        "    {\"Name\": \"Bob\", \"Grade\": 85},\n",
        "    {\"Name\": \"Charlie\", \"Grade\": 88}\n",
        "]\n",
        "\n",
        "with open('students.csv', 'w') as outfile:\n",
        "  outfile.write(\"Name,Grade\\n\")\n",
        "  for student in students:\n",
        "    outfile.write(f\"{student['Name']},{student['Grade']}\\n\")\n",
        "\n",
        "with open('students.csv', 'r') as infile:\n",
        "  reader = csv.DictReader(infile)\n",
        "  for row in reader:\n",
        "    print(row)"
      ],
      "metadata": {
        "colab": {
          "base_uri": "https://localhost:8080/"
        },
        "id": "Yj33sF488e_S",
        "outputId": "17dbb694-9e1e-4ee1-e521-798d3d437f6b"
      },
      "execution_count": null,
      "outputs": [
        {
          "output_type": "stream",
          "name": "stdout",
          "text": [
            "{'Name': 'Alice', 'Grade': '90'}\n",
            "{'Name': 'Bob', 'Grade': '85'}\n",
            "{'Name': 'Charlie', 'Grade': '88'}\n"
          ]
        }
      ]
    },
    {
      "cell_type": "code",
      "source": [
        "import pickle\n",
        "\n",
        "movies = [\n",
        "    {\"Title\": \"Ainda Estou Aqui\", \"Release Date\": 2024},\n",
        "    {\"Title\": \"Lilo & Stitch\", \"Release Date\": 2025},\n",
        "    {\"Title\": \"Wicked\", \"Release Date\": 2023}\n",
        "]\n",
        "\n",
        "with open('movies.pkl', 'wb') as file:\n",
        "  pickle.dump(movies, file)\n",
        "\n",
        "with open('movies.pkl', 'rb') as file:\n",
        "  loaded_movies = pickle.load(file)\n",
        "  for row in loaded_movies:\n",
        "    print(row)"
      ],
      "metadata": {
        "colab": {
          "base_uri": "https://localhost:8080/"
        },
        "id": "PZxEOm-S_J6m",
        "outputId": "cca152b5-c56e-414b-fe56-e8ab2b0ed757"
      },
      "execution_count": null,
      "outputs": [
        {
          "output_type": "stream",
          "name": "stdout",
          "text": [
            "{'Title': 'Ainda Estou Aqui', 'Release Date': 2024}\n",
            "{'Title': 'Lilo & Stitch', 'Release Date': 2025}\n",
            "{'Title': 'Wicked', 'Release Date': 2023}\n"
          ]
        }
      ]
    },
    {
      "cell_type": "code",
      "source": [
        "myfile = 'myfile.txt'\n",
        "try:\n",
        "  with open(myfile,\"r\") as myfile:\n",
        "   print(myfile.read())\n",
        "\n",
        "except FileNotFoundError:\n",
        "  print(f\"Error: The file '{myfile}' was not found. Please check the file path or create the file first.\")\n",
        "\n",
        "except IOError:\n",
        "  print(f\"Error: There was an issue reading the file '{myfile}'. Please check file permissions.\")"
      ],
      "metadata": {
        "colab": {
          "base_uri": "https://localhost:8080/"
        },
        "id": "_3RyACL-_M5f",
        "outputId": "877d3462-6b28-4fe6-d074-e843fc5bccf8"
      },
      "execution_count": null,
      "outputs": [
        {
          "output_type": "stream",
          "name": "stdout",
          "text": [
            "\"Hello, this is Python file handling assignment.\"\n",
            "\"This file contains multiple lines of text.\"\n"
          ]
        }
      ]
    }
  ]
}
